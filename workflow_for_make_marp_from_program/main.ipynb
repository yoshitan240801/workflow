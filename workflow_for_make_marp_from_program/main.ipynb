{
 "cells": [
  {
   "cell_type": "code",
   "execution_count": 1,
   "id": "e57f7846-1ccf-4b5d-bfd0-88120c578466",
   "metadata": {},
   "outputs": [],
   "source": [
    "import dotenv\n",
    "from IPython.display import Markdown\n",
    "from IPython.display import display\n",
    "import os\n",
    "\n",
    "import boto3"
   ]
  },
  {
   "cell_type": "code",
   "execution_count": 6,
   "id": "c7771c7d-f8bb-4503-bbb2-ccde42912532",
   "metadata": {},
   "outputs": [
    {
     "name": "stdout",
     "output_type": "stream",
     "text": [
      "1.40.21\n"
     ]
    }
   ],
   "source": [
    "print(boto3.__version__)"
   ]
  },
  {
   "cell_type": "code",
   "execution_count": 2,
   "id": "05a87861-aa01-4466-bcef-46708622b613",
   "metadata": {},
   "outputs": [],
   "source": [
    "dotenv.load_dotenv()\n",
    "CLAUDE_MODEL_ID = os.getenv(\"BEDROCK_CLAUDE_MODEL_ID\")\n",
    "CLAUDE_CLIENT = boto3.client(\"bedrock-runtime\",\n",
    "                             region_name=\"ap-northeast-1\")\n",
    "TOOL_SPEC_1_NAME = \"tool_for_make_markdown\"\n",
    "TOOL_SPEC_1_DESCRIPTION = (\n",
    "    \"あなたはMarkdownを記述する専門家で、Marpでプレゼンテーションのスライドを作成する業務に取り組んでいます。\"\n",
    ")  # タプルっぽいけれど1要素なので文字列扱いになる\n",
    "TOOL_SPEC_1_INPUTSCHEMA_NAME_1 = \"markdown_for_marp\"\n",
    "TOOL_SPEC_1_INPUTSCHEMA_DESCRIPTION_1 = (\n",
    "    \"与えられたプログラムの中身の概要を説明するためのスライドを考えて、そのスライドをMarkdownで作成してください。\"\n",
    ")\n",
    "TOOL_SPEC_2_NAME = \"tool_for_complete\"\n",
    "TOOL_SPEC_2_DESCRIPTION = (\n",
    "    \"ユーザが処理の完了を伝えてきた場合に用います。\"\n",
    ")\n",
    "TOOL_SPEC_2_INPUTSCHEMA_NAME_1 = \"for_complete\"\n",
    "TOOL_SPEC_2_INPUTSCHEMA_DESCRIPTION_1 = (\n",
    "    \"完了の旨を出力してください。\"\n",
    ")"
   ]
  },
  {
   "cell_type": "code",
   "execution_count": null,
   "id": "b6d04c34-85ef-49ae-a0c9-a18da076a4ff",
   "metadata": {},
   "outputs": [],
   "source": [
    "TARGET_CODE_FILE_PATH = r\"/home/hogehoge.py\"\n",
    "with open(TARGET_CODE_FILE_PATH, mode=\"r\", encoding=\"utf-8\") as f:\n",
    "    string_target_code = f.read()\n",
    "USER_PROMPT = (\n",
    "    \"これはpythonプログラムになります。このプログラムの内容を説明するための数枚のスライドをMarkdownで出力してください。\\n\"\n",
    "    \"適宜、図やフロー等をmermaid記述で盛り込んでも構いません。\\n\"\n",
    "    \"行っている内容にフォーカスを当ててください。所感や考察などは盛り込まないでください。\\n\\n\"\n",
    "    \"{a}\"\n",
    ").format(a=string_target_code)"
   ]
  },
  {
   "cell_type": "code",
   "execution_count": 4,
   "id": "568fd400-120e-4c06-b33b-af7246c281f9",
   "metadata": {},
   "outputs": [],
   "source": [
    "def structured_output_tool():\n",
    "    return {\"toolSpec\": {\"name\": TOOL_SPEC_1_NAME,\n",
    "                         \"description\": TOOL_SPEC_1_DESCRIPTION,\n",
    "                         \"inputSchema\": {\"json\": {\"type\": \"object\",\n",
    "                                                  \"properties\": {TOOL_SPEC_1_INPUTSCHEMA_NAME_1: {\"type\": \"string\",\n",
    "                                                                                                  \"description\": TOOL_SPEC_1_INPUTSCHEMA_DESCRIPTION_1}\n",
    "                                                                },\n",
    "                                                  \"required\": [TOOL_SPEC_1_INPUTSCHEMA_NAME_1]\n",
    "                                                 }\n",
    "                                        }\n",
    "                        }\n",
    "           }\n",
    "\n",
    "\n",
    "def complete_tool():\n",
    "    return {\"toolSpec\": {\"name\": TOOL_SPEC_2_NAME,\n",
    "                         \"description\": TOOL_SPEC_2_DESCRIPTION,\n",
    "                         \"inputSchema\": {\"json\": {\"type\": \"object\",\n",
    "                                                  \"properties\": {TOOL_SPEC_2_INPUTSCHEMA_NAME_1: {\"type\": \"string\",\n",
    "                                                                                                  \"description\": TOOL_SPEC_2_INPUTSCHEMA_DESCRIPTION_1}\n",
    "                                                                },\n",
    "                                                  \"required\": [TOOL_SPEC_2_INPUTSCHEMA_NAME_1]\n",
    "                                                 }\n",
    "                                        }\n",
    "                        }\n",
    "           }\n",
    "\n",
    "\n",
    "def process_claude_with_function_calling(claude_message_dict_list, claude_debug_flag=False):\n",
    "    claude_response = CLAUDE_CLIENT.converse(modelId=CLAUDE_MODEL_ID,\n",
    "                                             messages=claude_message_dict_list,\n",
    "                                             inferenceConfig={\"temperature\": 0.2},\n",
    "                                             toolConfig={\"tools\": [structured_output_tool(), complete_tool()]})\n",
    "    if claude_debug_flag == True:\n",
    "        print(claude_response)\n",
    "    result_tool_use = None\n",
    "    for res in claude_response[\"output\"][\"message\"][\"content\"]:\n",
    "        if \"toolUse\" in res.keys():\n",
    "            result_tool_use = res[\"toolUse\"]\n",
    "        else:\n",
    "            continue\n",
    "    return result_tool_use"
   ]
  },
  {
   "cell_type": "code",
   "execution_count": 5,
   "id": "930a87ac-5ad5-424d-90f6-625a421e7170",
   "metadata": {},
   "outputs": [
    {
     "data": {
      "text/markdown": [
       "---\n",
       "marp: true\n",
       "theme: default\n",
       "---\n",
       "\n",
       "# Jupyter Notebookファイルクリーンアップツール\n",
       "\n",
       "---\n",
       "\n",
       "# プログラムの目的\n",
       "\n",
       "- Jupyter Notebook (.ipynb) ファイルから不要なwidgets情報を削除\n",
       "- ファイルの軽量化とクリーンアップを実現\n",
       "\n",
       "---\n",
       "\n",
       "# 処理フロー\n",
       "\n",
       "```mermaid\n",
       "flowchart TB\n",
       "    A[開始] --> B[ipynbファイルを読み込み]\n",
       "    B --> C[JSONとしてパース]\n",
       "    C --> D{metadataとwidgetsの<br>存在確認}\n",
       "    D --> |存在する場合| E[widgets情報を削除]\n",
       "    D --> |存在しない場合| F[何もしない]\n",
       "    E --> G[ファイルに書き戻し]\n",
       "    F --> G\n",
       "    G --> H[完了メッセージ表示]\n",
       "    H --> I[終了]\n",
       "```\n",
       "\n",
       "---\n",
       "\n",
       "# 主な機能\n",
       "\n",
       "1. **ファイル読み込み**\n",
       "   - 指定されたパスのipynbファイルをUTF-8でオープン\n",
       "   - JSONとしてデータを読み込み\n",
       "\n",
       "2. **widgets情報の削除**\n",
       "   - metadata内のwidgets情報を検索\n",
       "   - 存在する場合は削除\n",
       "\n",
       "3. **ファイル書き出し**\n",
       "   - 処理後のデータをJSONとして書き出し\n",
       "   - インデント付きで整形\n",
       "   - 日本語文字のエスケープを防止\n",
       "\n",
       "---\n",
       "\n",
       "# 使用例\n",
       "\n",
       "```python\n",
       "clean_ipynb(path=\"C:\\\\Users\\\\user\\\\hogehoge.ipynb\")\n",
       "```\n",
       "\n",
       "**出力例**:\n",
       "```\n",
       "C:\\Users\\user\\hogehoge.ipynb をクリーンアップしました。\n",
       "```"
      ],
      "text/plain": [
       "<IPython.core.display.Markdown object>"
      ]
     },
     "metadata": {},
     "output_type": "display_data"
    },
    {
     "name": "stdout",
     "output_type": "stream",
     "text": [
      "\n",
      " ***** \n",
      "\n"
     ]
    },
    {
     "name": "stdout",
     "output_type": "stream",
     "text": [
      "どのようにmarkdownを変えますか？処理を完了する場合はその旨を入力してください。 使用例のスライドは削除してください。\n"
     ]
    },
    {
     "name": "stdout",
     "output_type": "stream",
     "text": [
      "\n",
      " ***** \n",
      "\n"
     ]
    },
    {
     "data": {
      "text/markdown": [
       "---\n",
       "marp: true\n",
       "theme: default\n",
       "---\n",
       "\n",
       "# Jupyter Notebookファイルクリーンアップツール\n",
       "\n",
       "---\n",
       "\n",
       "# プログラムの目的\n",
       "\n",
       "- Jupyter Notebook (.ipynb) ファイルから不要なwidgets情報を削除\n",
       "- ファイルの軽量化とクリーンアップを実現\n",
       "\n",
       "---\n",
       "\n",
       "# 処理フロー\n",
       "\n",
       "```mermaid\n",
       "flowchart TB\n",
       "    A[開始] --> B[ipynbファイルを読み込み]\n",
       "    B --> C[JSONとしてパース]\n",
       "    C --> D{metadataとwidgetsの<br>存在確認}\n",
       "    D --> |存在する場合| E[widgets情報を削除]\n",
       "    D --> |存在しない場合| F[何もしない]\n",
       "    E --> G[ファイルに書き戻し]\n",
       "    F --> G\n",
       "    G --> H[完了メッセージ表示]\n",
       "    H --> I[終了]\n",
       "```\n",
       "\n",
       "---\n",
       "\n",
       "# 主な機能\n",
       "\n",
       "1. **ファイル読み込み**\n",
       "   - 指定されたパスのipynbファイルをUTF-8でオープン\n",
       "   - JSONとしてデータを読み込み\n",
       "\n",
       "2. **widgets情報の削除**\n",
       "   - metadata内のwidgets情報を検索\n",
       "   - 存在する場合は削除\n",
       "\n",
       "3. **ファイル書き出し**\n",
       "   - 処理後のデータをJSONとして書き出し\n",
       "   - インデント付きで整形\n",
       "   - 日本語文字のエスケープを防止"
      ],
      "text/plain": [
       "<IPython.core.display.Markdown object>"
      ]
     },
     "metadata": {},
     "output_type": "display_data"
    },
    {
     "name": "stdout",
     "output_type": "stream",
     "text": [
      "\n",
      " ***** \n",
      "\n"
     ]
    },
    {
     "name": "stdout",
     "output_type": "stream",
     "text": [
      "どのようにmarkdownを変えますか？処理を完了する場合はその旨を入力してください。 ありがとうございます。これでokです。\n"
     ]
    },
    {
     "name": "stdout",
     "output_type": "stream",
     "text": [
      "\n",
      " ***** \n",
      "\n",
      "スライド作成の処理を完了します。\n",
      "---\n",
      "marp: true\n",
      "theme: default\n",
      "---\n",
      "\n",
      "# Jupyter Notebookファイルクリーンアップツール\n",
      "\n",
      "---\n",
      "\n",
      "# プログラムの目的\n",
      "\n",
      "- Jupyter Notebook (.ipynb) ファイルから不要なwidgets情報を削除\n",
      "- ファイルの軽量化とクリーンアップを実現\n",
      "\n",
      "---\n",
      "\n",
      "# 処理フロー\n",
      "\n",
      "```mermaid\n",
      "flowchart TB\n",
      "    A[開始] --> B[ipynbファイルを読み込み]\n",
      "    B --> C[JSONとしてパース]\n",
      "    C --> D{metadataとwidgetsの<br>存在確認}\n",
      "    D --> |存在する場合| E[widgets情報を削除]\n",
      "    D --> |存在しない場合| F[何もしない]\n",
      "    E --> G[ファイルに書き戻し]\n",
      "    F --> G\n",
      "    G --> H[完了メッセージ表示]\n",
      "    H --> I[終了]\n",
      "```\n",
      "\n",
      "---\n",
      "\n",
      "# 主な機能\n",
      "\n",
      "1. **ファイル読み込み**\n",
      "   - 指定されたパスのipynbファイルをUTF-8でオープン\n",
      "   - JSONとしてデータを読み込み\n",
      "\n",
      "2. **widgets情報の削除**\n",
      "   - metadata内のwidgets情報を検索\n",
      "   - 存在する場合は削除\n",
      "\n",
      "3. **ファイル書き出し**\n",
      "   - 処理後のデータをJSONとして書き出し\n",
      "   - インデント付きで整形\n",
      "   - 日本語文字のエスケープを防止\n"
     ]
    }
   ],
   "source": [
    "claude_input_output_message_list = []\n",
    "claude_input_message_start = {\"role\": \"user\",\n",
    "                              \"content\": [{\"text\": USER_PROMPT}]\n",
    "                             }\n",
    "claude_input_output_message_list.append(claude_input_message_start)\n",
    "while True:\n",
    "    claude_result = process_claude_with_function_calling(claude_message_dict_list=claude_input_output_message_list,\n",
    "                                                         claude_debug_flag=False)\n",
    "    if (claude_result == None) or (claude_result[\"name\"] == TOOL_SPEC_2_NAME):\n",
    "        break\n",
    "    claude_output_message = {\"role\": \"assistant\",\n",
    "                             \"content\": [{\"toolUse\": claude_result}]\n",
    "                            }\n",
    "    claude_input_output_message_list.append(claude_output_message)\n",
    "    result_markdown = claude_result[\"input\"][TOOL_SPEC_1_INPUTSCHEMA_NAME_1]\n",
    "    display(Markdown(result_markdown))  # Jupyter Notebook環境固有のメソッドでmarkdownをレンダリングして表示する\n",
    "    print(\"\\n\", \"*****\", \"\\n\")\n",
    "    USER_PROMPT_AGAIN = input(\"どのようにmarkdownを変えますか？処理を完了する場合はその旨を入力してください。\")\n",
    "    print(\"\\n\", \"*****\", \"\\n\")\n",
    "    claude_input_message = {\"role\": \"user\",\n",
    "                            \"content\": [{\"toolResult\": {\"toolUseId\": claude_result[\"toolUseId\"],\n",
    "                                                        \"content\": [{\"text\": USER_PROMPT_AGAIN}]}\n",
    "                                        }]\n",
    "                           }\n",
    "    claude_input_output_message_list.append(claude_input_message)\n",
    "print(\"スライド作成の処理を完了します。\")\n",
    "print(result_markdown)"
   ]
  },
  {
   "cell_type": "code",
   "execution_count": null,
   "id": "62e5a541-8c10-4bbd-af6b-6d652c2b09b6",
   "metadata": {},
   "outputs": [],
   "source": []
  }
 ],
 "metadata": {
  "kernelspec": {
   "display_name": "tanaka_kernel(Python3-11)",
   "language": "python",
   "name": "tanaka_kernel"
  },
  "language_info": {
   "codemirror_mode": {
    "name": "ipython",
    "version": 3
   },
   "file_extension": ".py",
   "mimetype": "text/x-python",
   "name": "python",
   "nbconvert_exporter": "python",
   "pygments_lexer": "ipython3",
   "version": "3.11.13"
  }
 },
 "nbformat": 4,
 "nbformat_minor": 5
}
